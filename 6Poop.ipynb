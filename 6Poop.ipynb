{
  "nbformat": 4,
  "nbformat_minor": 0,
  "metadata": {
    "colab": {
      "provenance": [],
      "authorship_tag": "ABX9TyPu8YDrMabjKv4aKneVZL4T",
      "include_colab_link": true
    },
    "kernelspec": {
      "name": "python3",
      "display_name": "Python 3"
    },
    "language_info": {
      "name": "python"
    }
  },
  "cells": [
    {
      "cell_type": "markdown",
      "metadata": {
        "id": "view-in-github",
        "colab_type": "text"
      },
      "source": [
        "<a href=\"https://colab.research.google.com/github/farida-bano/Q3-6P-OOP/blob/main/6Poop.ipynb\" target=\"_parent\"><img src=\"https://colab.research.google.com/assets/colab-badge.svg\" alt=\"Open In Colab\"/></a>"
      ]
    },
    {
      "cell_type": "code",
      "execution_count": 8,
      "metadata": {
        "id": "rupja4R5M4FC",
        "colab": {
          "base_uri": "https://localhost:8080/"
        },
        "outputId": "0f27e998-ba2f-407a-bca8-189502c12812"
      },
      "outputs": [
        {
          "output_type": "stream",
          "name": "stdout",
          "text": [
            "Name: Farida, Marks: 75\n"
          ]
        }
      ],
      "source": [
        "# 1. Using self\n",
        "class Student:\n",
        "    def __init__(self, name, marks):\n",
        "        self.name = name\n",
        "        self.marks = marks\n",
        "\n",
        "    def display(self):\n",
        "        print(f\"Name: {self.name}, Marks: {self.marks}\")\n",
        "student1 = Student(\"Farida\",75)\n",
        "student1.display()\n"
      ]
    },
    {
      "cell_type": "code",
      "source": [
        "class Counter:\n",
        "    count = 0\n",
        "\n",
        "    def __init__(self):\n",
        "        Counter.count += 1\n",
        "\n",
        "    @classmethod\n",
        "    def display_count(cls):\n",
        "        print(f\"Objects created: {cls.count}\")\n",
        "\n",
        "    # Optionally, adding a __str__ method to display the instance count\n",
        "    def __str__(self):\n",
        "        return f\"Counter Object (ID: {id(self)})\"\n",
        "\n",
        "# Creating counter objects\n",
        "obj1 = Counter()\n",
        "obj2 = Counter()\n",
        "obj3 = Counter()\n",
        "obj4 = Counter()\n",
        "# Display the total count of objects created\n",
        "Counter.display_count()"
      ],
      "metadata": {
        "id": "yst6YBcKNYkT",
        "colab": {
          "base_uri": "https://localhost:8080/"
        },
        "outputId": "455f6a86-287e-4e3c-c241-8ee47a67347a"
      },
      "execution_count": 10,
      "outputs": [
        {
          "output_type": "stream",
          "name": "stdout",
          "text": [
            "Objects created: 4\n"
          ]
        }
      ]
    },
    {
      "cell_type": "code",
      "source": [
        "# 3. Public Variables and Methods\n",
        "class Car:\n",
        "    def __init__(self, brand):\n",
        "        self.brand = brand\n",
        "\n",
        "    def start(self):\n",
        "        print(f\"{self.brand} is starting...!\")\n",
        "\n",
        "# Main program flow\n",
        "my_car = Car(\"Audi\")  # Instantiate the Car class with \"Audi\"\n",
        "print(my_car.brand)    # Access and print the brand of the car\n",
        "my_car.start()         # Call the start method of the car\n"
      ],
      "metadata": {
        "id": "2rmxUZ8lRXQc",
        "colab": {
          "base_uri": "https://localhost:8080/"
        },
        "outputId": "64acb898-e5f2-4e29-c214-2ecb7d66b3f5"
      },
      "execution_count": 11,
      "outputs": [
        {
          "output_type": "stream",
          "name": "stdout",
          "text": [
            "Audi\n",
            "Audi is starting...!\n"
          ]
        }
      ]
    },
    {
      "cell_type": "code",
      "source": [
        "# 4. Class Variables and Class Methods\n",
        "class Bank:\n",
        "    bank_name = \"Default Bank\"  # Default name for the bank\n",
        "\n",
        "    def __init__(self, account_holder):\n",
        "        self.account_holder = account_holder\n",
        "\n",
        "    @classmethod\n",
        "    def change_bank_name(cls, name):\n",
        "        cls.bank_name = name\n",
        "\n",
        "    def display(self):\n",
        "        print(f\"Account Holder: {self.account_holder}, Bank Name: {self.bank_name}\")\n",
        "\n",
        "\n",
        "# Creating two bank accounts\n",
        "account1 = Bank(\"Farida\")\n",
        "account2 = Bank(\"Ahmed\")\n",
        "\n",
        "# Display details for both accounts\n",
        "account1.display()\n",
        "account2.display()\n",
        "\n",
        "# Changing the bank name\n",
        "Bank.change_bank_name(\"National Bank of Pakistan\")\n",
        "\n",
        "# Display updated details\n",
        "print(\"\\nAfter changing the bank name:\")\n",
        "account1.display()\n",
        "account2.display()\n"
      ],
      "metadata": {
        "id": "UWgRZ8hxRfVZ",
        "colab": {
          "base_uri": "https://localhost:8080/"
        },
        "outputId": "5d215bd1-d40e-400b-8627-f5304d29a90c"
      },
      "execution_count": 16,
      "outputs": [
        {
          "output_type": "stream",
          "name": "stdout",
          "text": [
            "Account Holder: Farida, Bank Name: Default Bank\n",
            "Account Holder: Ahmed, Bank Name: Default Bank\n",
            "\n",
            "After changing the bank name:\n",
            "Account Holder: Farida, Bank Name: National Bank of Pakistan\n",
            "Account Holder: Ahmed, Bank Name: National Bank of Pakistan\n"
          ]
        }
      ]
    },
    {
      "cell_type": "code",
      "source": [
        "# 5. Static Variables and Static Methods\n",
        "class MathUtils:\n",
        "    @staticmethod\n",
        "    def add(a, b):\n",
        "        return a + b\n"
      ],
      "metadata": {
        "id": "hX1Ev80DRkIH"
      },
      "execution_count": null,
      "outputs": []
    },
    {
      "cell_type": "code",
      "source": [
        "# 6. Constructors and Destructors\n",
        "class Logger:\n",
        "    def __init__(self):\n",
        "        print(\"Logger object created\")\n",
        "\n",
        "    def __del__(self):\n",
        "        print(\"Logger object destroyed\")\n",
        "\n",
        "\n",
        "# Logger ka object create karain\n",
        "logger_obj = Logger()\n",
        "\n",
        "# Ab `logger_obj` ko explicitly delete karain ya program ka execution complete hone dein\n",
        "del logger_obj  # Destructor ko manually call karne ka tareeqa\n",
        "\n",
        "# Agar aap program terminate karte hain, to destructor automatically call hoga\n",
        "\n"
      ],
      "metadata": {
        "id": "_4bDZIvFRwrS",
        "colab": {
          "base_uri": "https://localhost:8080/"
        },
        "outputId": "425ed6ab-ab7a-460c-9a84-155a8111a532"
      },
      "execution_count": 17,
      "outputs": [
        {
          "output_type": "stream",
          "name": "stdout",
          "text": [
            "Logger object created\n",
            "Logger object destroyed\n"
          ]
        }
      ]
    },
    {
      "cell_type": "code",
      "source": [
        "# 7. Access Modifiers: Public, Private, Protected\n",
        "class Employee:\n",
        "    def __init__(self, name, salary, ssn):\n",
        "        self.name = name           # Public\n",
        "        self._salary = salary      # Protected\n",
        "        self.__ssn = ssn           # Private Social Security Number\n",
        "\n",
        "    def display(self):\n",
        "        print(self.name)\n",
        "        print(self._salary)\n",
        "        print(self.__ssn)  # Accessing within the class\n",
        "\n",
        "        # Create an Employee object\n",
        "emp = Employee(\"Farida Bano\", 45000, \"123-45-23423\")\n",
        "\n",
        "# Call the display method\n",
        "emp.display()\n",
        "\n",
        "\n",
        "\n"
      ],
      "metadata": {
        "id": "0uGDPEUzR53S",
        "colab": {
          "base_uri": "https://localhost:8080/"
        },
        "outputId": "15e8a649-c659-416a-8fc2-285220eb30c6"
      },
      "execution_count": 21,
      "outputs": [
        {
          "output_type": "stream",
          "name": "stdout",
          "text": [
            "Farida Bano\n",
            "45000\n",
            "123-45-23423\n"
          ]
        }
      ]
    },
    {
      "cell_type": "code",
      "source": [
        "class Person:\n",
        "    def __init__(self, name):\n",
        "        self.name = name\n",
        "\n",
        "class Teacher(Person):\n",
        "    def __init__(self, name, subject):\n",
        "        super().__init__(name)\n",
        "        self.subject = subject\n",
        "\n",
        "# Create an instance of the Teacher class\n",
        "teacher = Teacher(\"Farida Bano\", \"Education\")\n",
        "\n",
        "# Print the teacher's details\n",
        "print(f\"Name: {teacher.name}, Subject: {teacher.subject}\")\n"
      ],
      "metadata": {
        "colab": {
          "base_uri": "https://localhost:8080/"
        },
        "id": "GUGJWepEOWr7",
        "outputId": "fb63f244-f407-410a-8169-109b75eb3997"
      },
      "execution_count": 23,
      "outputs": [
        {
          "output_type": "stream",
          "name": "stdout",
          "text": [
            "Name: Farida Bano, Subject: Education\n"
          ]
        }
      ]
    },
    {
      "cell_type": "code",
      "source": [
        "# 9. Abstract Classes and Methods\n",
        "from abc import ABC, abstractmethod\n",
        "\n",
        "class Shape(ABC):\n",
        "    @abstractmethod\n",
        "    def area(self):\n",
        "        pass\n",
        "\n",
        "class Rectangle(Shape):\n",
        "    def __init__(self, width, height):\n",
        "        self.width = width\n",
        "        self.height = height\n",
        "\n",
        "    def area(self):\n",
        "        return self.width * self.height\n",
        "\n",
        "\n",
        "# Create an instance of Rectangle with width 4 and height 5\n",
        "rect = Rectangle(4, 5)\n",
        "\n",
        "# Call the area method to get the area of the rectangle\n",
        "print(f\"The area of the rectangle is: {rect.area()}\")  # Output will be 20\n",
        "\n"
      ],
      "metadata": {
        "colab": {
          "base_uri": "https://localhost:8080/"
        },
        "id": "dFqcf7JWPUvh",
        "outputId": "2d0fbe65-297d-43b3-c258-fafdee81506c"
      },
      "execution_count": 24,
      "outputs": [
        {
          "output_type": "stream",
          "name": "stdout",
          "text": [
            "The area of the rectangle is: 20\n"
          ]
        }
      ]
    },
    {
      "cell_type": "code",
      "source": [
        "class Dog:\n",
        "    def __init__(self, name, breed):\n",
        "        self.name = name\n",
        "        self.breed = breed\n",
        "\n",
        "    def bark(self):\n",
        "        print(f\"{self.name} says woof!\")\n",
        "\n",
        "# Create an instance of the Dog class\n",
        "my_dog = Dog(\"Rex\", \"German Shepherd\")\n",
        "\n",
        "# Call the bark method on the instance\n",
        "my_dog.bark()\n"
      ],
      "metadata": {
        "colab": {
          "base_uri": "https://localhost:8080/"
        },
        "id": "dykxTOgFQbGa",
        "outputId": "c76961d2-7570-4bb5-cba9-d781406e712d"
      },
      "execution_count": 25,
      "outputs": [
        {
          "output_type": "stream",
          "name": "stdout",
          "text": [
            "Rex says woof!\n"
          ]
        }
      ]
    },
    {
      "cell_type": "code",
      "source": [
        "# 11. Class Methods\n",
        "class Book:\n",
        "    total_books = 0  # Class-level variable\n",
        "\n",
        "    @classmethod\n",
        "    def increment_book_count(cls):\n",
        "        cls.total_books += 1\n",
        "\n",
        "# Test the class method\n",
        "book1 = Book()\n",
        "book2 = Book()\n",
        "book3 = Book()\n",
        "\n",
        "# Call the class method for each book to increment the total book count\n",
        "book1.increment_book_count()\n",
        "book2.increment_book_count()\n",
        "book3.increment_book_count()\n",
        "\n",
        "# Print the total book count\n",
        "print(f'Total books: {Book.total_books}')\n"
      ],
      "metadata": {
        "colab": {
          "base_uri": "https://localhost:8080/"
        },
        "id": "sOxwfRsfSUHn",
        "outputId": "b3570deb-3589-4da3-ce4e-37d48f196087"
      },
      "execution_count": 26,
      "outputs": [
        {
          "output_type": "stream",
          "name": "stdout",
          "text": [
            "Total books: 3\n"
          ]
        }
      ]
    },
    {
      "cell_type": "code",
      "source": [
        "# 12. Static Methods\n",
        "class TemperatureConverter:\n",
        "    @staticmethod\n",
        "    def celsius_to_fahrenheit(c):\n",
        "        return (c * 9/5) + 32\n",
        "\n",
        "# Usage\n",
        "celsius = 25\n",
        "fahrenheit = TemperatureConverter.celsius_to_fahrenheit(celsius)\n",
        "print(f\"{celsius}°C is equal to {fahrenheit}°F\")\n"
      ],
      "metadata": {
        "colab": {
          "base_uri": "https://localhost:8080/"
        },
        "id": "wxMAPgsATVr7",
        "outputId": "fa61799d-aff5-4d70-a454-72c60c0d1a4a"
      },
      "execution_count": 27,
      "outputs": [
        {
          "output_type": "stream",
          "name": "stdout",
          "text": [
            "25°C is equal to 77.0°F\n"
          ]
        }
      ]
    },
    {
      "cell_type": "code",
      "source": [
        "# 13. Composition\n",
        "class Engine:\n",
        "    def start(self):\n",
        "        print(\"Engine started\")\n",
        "\n",
        "class CarWithEngine:\n",
        "    def __init__(self, engine):\n",
        "        self.engine = engine\n",
        "\n",
        "    def start_engine(self):\n",
        "        self.engine.start()\n",
        "\n",
        "# Create an Engine object\n",
        "my_engine = Engine()\n",
        "\n",
        "# Create a CarWithEngine object, passing the Engine instance\n",
        "my_car = CarWithEngine(my_engine)\n",
        "\n",
        "# Start the engine via the car\n",
        "my_car.start_engine()  # This will print \"Engine started\"\n"
      ],
      "metadata": {
        "colab": {
          "base_uri": "https://localhost:8080/"
        },
        "id": "t8ucLvUITrwa",
        "outputId": "f7a7dc9c-3ece-44cb-dff3-c6ed4bb6b733"
      },
      "execution_count": 28,
      "outputs": [
        {
          "output_type": "stream",
          "name": "stdout",
          "text": [
            "Engine started\n"
          ]
        }
      ]
    },
    {
      "cell_type": "code",
      "source": [
        "# 14. Aggregation\n",
        "class EmployeeAgg:\n",
        "    def __init__(self, name):\n",
        "        self.name = name\n",
        "\n",
        "    def __str__(self):\n",
        "        return self.name\n",
        "\n",
        "class Department:\n",
        "    def __init__(self, name, employees):\n",
        "        self.name = name\n",
        "        # employees is expected to be a list of EmployeeAgg objects\n",
        "        self.employees = employees\n",
        "\n",
        "    def show_employees(self):\n",
        "        print(f\"Employees in the {self.name} department:\")\n",
        "        for employee in self.employees:\n",
        "            print(employee)\n",
        "\n",
        "# Create some EmployeeAgg objects\n",
        "employee1 = EmployeeAgg(\"Farida\")\n",
        "employee2 = EmployeeAgg(\"Erum\")\n",
        "employee3 = EmployeeAgg(\"Alishba\")\n",
        "\n",
        "# Create a Department object and pass in the EmployeeAgg objects as a list\n",
        "department = Department(\"HR\", [employee1, employee2, employee3])\n",
        "\n",
        "# Call the method to show employees in the department\n",
        "department.show_employees()\n"
      ],
      "metadata": {
        "colab": {
          "base_uri": "https://localhost:8080/"
        },
        "id": "m5o7MgeiUnC4",
        "outputId": "bb94b0ab-20cf-4029-e049-8c9d71d915c9"
      },
      "execution_count": 31,
      "outputs": [
        {
          "output_type": "stream",
          "name": "stdout",
          "text": [
            "Employees in the HR department:\n",
            "Farida\n",
            "Erum\n",
            "Alishba\n"
          ]
        }
      ]
    },
    {
      "cell_type": "code",
      "source": [
        "# 15. Method Resolution Order (MRO)\n",
        "class A:\n",
        "    def show(self):\n",
        "        print(\"A\")\n",
        "\n",
        "class B(A):\n",
        "    def show(self):\n",
        "        print(\"B\")\n",
        "\n",
        "class C(A):\n",
        "    def show(self):\n",
        "        print(\"C\")\n",
        "\n",
        "class D(B, C):\n",
        "    pass\n",
        "d = D()\n",
        "d.show()\n"
      ],
      "metadata": {
        "colab": {
          "base_uri": "https://localhost:8080/"
        },
        "id": "oAKQ5AfJVX1u",
        "outputId": "d2814435-bb8b-41a1-c8fb-2fc1e949ffef"
      },
      "execution_count": 35,
      "outputs": [
        {
          "output_type": "stream",
          "name": "stdout",
          "text": [
            "B\n"
          ]
        }
      ]
    },
    {
      "cell_type": "code",
      "source": [
        "# 16. Function Decorators\n",
        "def log_function_call(func):\n",
        "    def wrapper():\n",
        "        print(\"Function is being called\")\n",
        "        func()\n",
        "    return wrapper\n",
        "\n",
        "@log_function_call\n",
        "def say_hello():\n",
        "    print(\"Hello!\")\n",
        "\n",
        "# Now, if we call say_hello():\n",
        "say_hello()\n"
      ],
      "metadata": {
        "colab": {
          "base_uri": "https://localhost:8080/"
        },
        "id": "Cm9CS3c5WJUm",
        "outputId": "f0e24477-11fe-4965-be16-5f43d44e2d35"
      },
      "execution_count": 37,
      "outputs": [
        {
          "output_type": "stream",
          "name": "stdout",
          "text": [
            "Function is being called\n",
            "Hello!\n"
          ]
        }
      ]
    },
    {
      "cell_type": "code",
      "source": [
        "# 17. Class Decorators\n",
        "def add_greeting(cls):\n",
        "    def greet(self):\n",
        "        return \"Hello from Decorator!\"\n",
        "    cls.greet = greet\n",
        "    return cls\n",
        "\n",
        "@add_greeting\n",
        "class PersonWithGreeting:\n",
        "    def __init__(self, name):\n",
        "        self.name = name\n",
        "\n",
        "# Create an instance of PersonWithGreeting\n",
        "person = PersonWithGreeting(\"Farida\")\n",
        "\n",
        "# Call the greet method added by the decorator\n",
        "print(person.greet())  # Output: Hello from Decorator!"
      ],
      "metadata": {
        "colab": {
          "base_uri": "https://localhost:8080/"
        },
        "id": "8sVnqOM4dHEX",
        "outputId": "b469e514-d97a-4690-b064-ab87ab45920d"
      },
      "execution_count": 38,
      "outputs": [
        {
          "output_type": "stream",
          "name": "stdout",
          "text": [
            "Hello from Decorator!\n"
          ]
        }
      ]
    },
    {
      "cell_type": "code",
      "source": [
        "# 18. Property Decorators\n",
        "class Product:\n",
        "    def __init__(self, price):\n",
        "        self._price = price\n",
        "\n",
        "    @property\n",
        "    def price(self):\n",
        "        return self._price\n",
        "\n",
        "    @price.setter\n",
        "    def price(self, value):\n",
        "        self._price = value\n",
        "\n",
        "    @price.deleter\n",
        "    def price(self):\n",
        "        del self._price\n",
        "\n",
        "# Example usage:\n",
        "product = Product(100)  # Initialize with price 100\n",
        "\n",
        "# Accessing the price using the getter\n",
        "print(\"Initial Price:\", product.price)\n",
        "\n",
        "# Changing the price using the setter\n",
        "product.price = 150\n",
        "print(\"Updated Price:\", product.price)\n",
        "\n",
        "# Deleting the price using the deleter\n",
        "del product.price\n",
        "\n",
        "# Trying to access the price after deletion (this will raise an AttributeError)\n",
        "try:\n",
        "    print(\"Price after deletion:\", product.price)\n",
        "except AttributeError as e:\n",
        "    print(\"Error:\", e)\n"
      ],
      "metadata": {
        "colab": {
          "base_uri": "https://localhost:8080/"
        },
        "id": "JZapEcXceWh0",
        "outputId": "ac834235-4fcc-4daa-dc0f-cc2e6bbac424"
      },
      "execution_count": 39,
      "outputs": [
        {
          "output_type": "stream",
          "name": "stdout",
          "text": [
            "Initial Price: 100\n",
            "Updated Price: 150\n",
            "Error: 'Product' object has no attribute '_price'\n"
          ]
        }
      ]
    },
    {
      "cell_type": "code",
      "source": [
        "# 19. callable() and __call__()\n",
        "class Multiplier:\n",
        "    def __init__(self, factor):\n",
        "        self.factor = factor\n",
        "\n",
        "    def __call__(self, x):\n",
        "        return x * self.factor\n",
        "\n",
        "# Create an instance of Multiplier with a factor of 3\n",
        "multiply_by_3 = Multiplier(3)\n",
        "\n",
        "# Use the __call__ method by calling the object as a function\n",
        "result = multiply_by_3(5)  # Should multiply 5 by 3\n",
        "\n",
        "print(result)\n"
      ],
      "metadata": {
        "colab": {
          "base_uri": "https://localhost:8080/"
        },
        "id": "Dydq_mE5fUii",
        "outputId": "47f6a5e9-ef36-4f1f-ef92-5b466ae37c51"
      },
      "execution_count": 40,
      "outputs": [
        {
          "output_type": "stream",
          "name": "stdout",
          "text": [
            "15\n"
          ]
        }
      ]
    },
    {
      "cell_type": "code",
      "source": [
        "# 20. Creating a Custom Exception\n",
        "class InvalidAgeError(Exception):\n",
        "    pass\n",
        "\n",
        "def check_age(age):\n",
        "    if age < 18:\n",
        "        raise InvalidAgeError(\"Age must be at least 18\")\n",
        "    return \"Age is valid\"\n",
        "\n",
        "# Test the function\n",
        "try:\n",
        "    age = 16  # You can change this value to test different cases\n",
        "    result = check_age(age)\n",
        "    print(result)\n",
        "except InvalidAgeError as e:\n",
        "    print(f\"Error: {e}\")\n"
      ],
      "metadata": {
        "colab": {
          "base_uri": "https://localhost:8080/"
        },
        "id": "JI1X07Krf10e",
        "outputId": "995d25e3-2689-4ac6-8c68-540aee0b9000"
      },
      "execution_count": 41,
      "outputs": [
        {
          "output_type": "stream",
          "name": "stdout",
          "text": [
            "Error: Age must be at least 18\n"
          ]
        }
      ]
    },
    {
      "cell_type": "code",
      "source": [
        "# 21. Make a Custom Class Iterable\n",
        "# Countdown class that makes it an iterable\n",
        "class Countdown:\n",
        "    def __init__(self, start):\n",
        "        self.start = start\n",
        "\n",
        "    def __iter__(self):\n",
        "        self.current = self.start\n",
        "        return self\n",
        "\n",
        "    def __next__(self):\n",
        "        if self.current < 0:\n",
        "            raise StopIteration\n",
        "        val = self.current\n",
        "        self.current -= 1\n",
        "        return val\n",
        "\n",
        "# Testing the Countdown class\n",
        "countdown = Countdown(5)\n",
        "\n",
        "# Collecting the output from the Countdown iterable\n",
        "output = list(countdown)\n",
        "print(output)\n"
      ],
      "metadata": {
        "colab": {
          "base_uri": "https://localhost:8080/"
        },
        "id": "6KzaAJPPgeJE",
        "outputId": "3c474024-f7e7-447c-db2e-3f9322bb14cf"
      },
      "execution_count": 43,
      "outputs": [
        {
          "output_type": "stream",
          "name": "stdout",
          "text": [
            "[5, 4, 3, 2, 1, 0]\n"
          ]
        }
      ]
    }
  ]
}